{
  "nbformat": 4,
  "nbformat_minor": 0,
  "metadata": {
    "colab": {
      "provenance": [],
      "authorship_tag": "ABX9TyNpffkxoZUUY1PEW/NyVuKT",
      "include_colab_link": true
    },
    "kernelspec": {
      "name": "python3",
      "display_name": "Python 3"
    },
    "language_info": {
      "name": "python"
    }
  },
  "cells": [
    {
      "cell_type": "markdown",
      "metadata": {
        "id": "view-in-github",
        "colab_type": "text"
      },
      "source": [
        "<a href=\"https://colab.research.google.com/github/Lauravargas070502/Ciencia-Datos/blob/master/C2%20-%20Taller%201.ipynb\" target=\"_parent\"><img src=\"https://colab.research.google.com/assets/colab-badge.svg\" alt=\"Open In Colab\"/></a>"
      ]
    },
    {
      "cell_type": "markdown",
      "source": [
        "# TALLER 1\n",
        "\n",
        "Integrantes:\n",
        "*   Laura vargas Perdomo\n",
        "*   Oscar Fernando  Vargas Cerón\n",
        "\n",
        "\n",
        "## Manual Explicativo: Funciones de Tiempo y Jerarquía de Fechas en Python\n",
        "\n",
        "1. Introducción\n",
        "\n",
        "Este manual explica el uso de funciones de tiempo y jerarquía de fechas en Python con la biblioteca Pandas.\n",
        "\n",
        "La gestión de fechas y tiempos en ciencia de datos permite analizar datos a lo largo del tiempo y detectar patrones.\n"
      ],
      "metadata": {
        "id": "k9phgDOcw98w"
      }
    },
    {
      "cell_type": "markdown",
      "source": [
        "Crear y extraer componentes de fechas\n",
        "\n",
        " Esta parte del código genera 10 fechas seguidas (por ejemplo del 1 al 10 de enero de 2023) y luego saca partes importantes de cada fecha, como:\n",
        "---\n",
        "\n"
      ],
      "metadata": {
        "id": "uWf8E1rgxyow"
      }
    },
    {
      "cell_type": "code",
      "execution_count": 1,
      "metadata": {
        "colab": {
          "base_uri": "https://localhost:8080/"
        },
        "id": "wMN92yumvSCR",
        "outputId": "ff426796-d4a0-4191-e762-3f194dd03d5c"
      },
      "outputs": [
        {
          "output_type": "stream",
          "name": "stdout",
          "text": [
            "      fechas   año  mes  día del mes día de la semana\n",
            "0 2023-01-01  2023    1            1           Sunday\n",
            "1 2023-01-02  2023    1            2           Monday\n",
            "2 2023-01-03  2023    1            3          Tuesday\n",
            "3 2023-01-04  2023    1            4        Wednesday\n",
            "4 2023-01-05  2023    1            5         Thursday\n",
            "5 2023-01-06  2023    1            6           Friday\n",
            "6 2023-01-07  2023    1            7         Saturday\n",
            "7 2023-01-08  2023    1            8           Sunday\n",
            "8 2023-01-09  2023    1            9           Monday\n",
            "9 2023-01-10  2023    1           10          Tuesday\n"
          ]
        }
      ],
      "source": [
        "import pandas as pd\n",
        "import numpy as np\n",
        "import matplotlib.pyplot as pl\n",
        "\n",
        "# Crear un rango de fechas diarias\n",
        "fechas = pd.date_range(start='2023-01-01', periods=10, freq='D')\n",
        "\n",
        "# Crear un DataFrame con estas fechas\n",
        "df = pd.DataFrame({'fechas': fechas})\n",
        "\n",
        "# Extraer componentes de fecha\n",
        "df['año'] = df['fechas'].dt.year\n",
        "df['mes'] = df['fechas'].dt.month\n",
        "df['día del mes'] = df['fechas'].dt.day\n",
        "df['día de la semana'] = df['fechas'].dt.day_name()\n",
        "\n",
        "# Mostrar el DataFrame\n",
        "print(df)\n"
      ]
    },
    {
      "cell_type": "markdown",
      "source": [
        "Aquí se crean 10 fechas con un valor numérico asociado (como si fueran ventas diarias). Luego:\n",
        "\n",
        "\n",
        "*   Se compara cada fecha con una fecha fija (el 5 de enero de 2023) y calcula cuántos días han pasado.\n",
        "*   Se filtran solo las fechas que vienen después del 5 de enero\n"
      ],
      "metadata": {
        "id": "qMNgxk2UzJRF"
      }
    },
    {
      "cell_type": "code",
      "source": [
        "\n",
        "\n",
        "# Crear DataFrame con fechas y valores\n",
        "data = pd.DataFrame({\n",
        "    'fecha': pd.date_range(start='2023-01-01', periods=10, freq='D'),\n",
        "    'valor': [10, 15, 20, 25, 30, 35, 40, 45, 50, 55]\n",
        "})\n",
        "\n",
        "# Calcular los días pasados desde una fecha de referencia\n",
        "fecha_ref = pd.to_datetime('2023-01-05')\n",
        "data['días_pasados'] = (data['fecha'] - fecha_ref).dt.days\n",
        "\n",
        "# Filtrar filas con fechas posteriores al 5 de enero\n",
        "filtrado = data[data['fecha'] > '2023-01-05']\n",
        "\n",
        "# Mostrar resultados\n",
        "print(\"Datos originales:\")\n",
        "print(data)\n",
        "\n",
        "print(\"\\nDatos filtrados:\")\n",
        "print(filtrado)\n"
      ],
      "metadata": {
        "colab": {
          "base_uri": "https://localhost:8080/"
        },
        "id": "0_5SyP3Kvfrx",
        "outputId": "81e2c26f-388b-4dfa-b310-5938b56d2fc8"
      },
      "execution_count": 2,
      "outputs": [
        {
          "output_type": "stream",
          "name": "stdout",
          "text": [
            "Datos originales:\n",
            "       fecha  valor  días_pasados\n",
            "0 2023-01-01     10            -4\n",
            "1 2023-01-02     15            -3\n",
            "2 2023-01-03     20            -2\n",
            "3 2023-01-04     25            -1\n",
            "4 2023-01-05     30             0\n",
            "5 2023-01-06     35             1\n",
            "6 2023-01-07     40             2\n",
            "7 2023-01-08     45             3\n",
            "8 2023-01-09     50             4\n",
            "9 2023-01-10     55             5\n",
            "\n",
            "Datos filtrados:\n",
            "       fecha  valor  días_pasados\n",
            "5 2023-01-06     35             1\n",
            "6 2023-01-07     40             2\n",
            "7 2023-01-08     45             3\n",
            "8 2023-01-09     50             4\n",
            "9 2023-01-10     55             5\n"
          ]
        }
      ]
    },
    {
      "cell_type": "markdown",
      "source": [
        "Aquí se simulan ventas diarias durante 90 días (aproximadamente 3 meses). Luego:\n",
        "\n",
        "\n",
        "*   Se agrupan todas las ventas por mes\n",
        "*   Se suma el total de ventas de cada mes"
      ],
      "metadata": {
        "id": "abJ0R8NOzRn-"
      }
    },
    {
      "cell_type": "code",
      "source": [
        "\n",
        "\n",
        "# Crear datos de ventas simuladas por día\n",
        "df = pd.DataFrame({\n",
        "    'fecha': pd.date_range(start='2023-01-01', periods=90, freq='D'),\n",
        "    'ventas': np.random.randint(100, 1000, size=90)\n",
        "})\n",
        "\n",
        "# Agrupar por mes\n",
        "df['mes'] = df['fecha'].dt.to_period('M')\n",
        "ventas_mensuales = df.groupby('mes')['ventas'].sum()\n",
        "\n",
        "# Mostrar resultados\n",
        "print(\"Ventas mensuales:\")\n",
        "print(ventas_mensuales)\n"
      ],
      "metadata": {
        "colab": {
          "base_uri": "https://localhost:8080/"
        },
        "id": "D3sjZgH5vp_Q",
        "outputId": "73e50d52-1d1d-46d2-fc36-9ae0daae0986"
      },
      "execution_count": 3,
      "outputs": [
        {
          "output_type": "stream",
          "name": "stdout",
          "text": [
            "Ventas mensuales:\n",
            "mes\n",
            "2023-01    18602\n",
            "2023-02    14034\n",
            "2023-03    18269\n",
            "Freq: M, Name: ventas, dtype: int64\n"
          ]
        }
      ]
    },
    {
      "cell_type": "markdown",
      "source": [
        "Esta parte también usa datos de ventas durante 90 días, pero hace dos cosas:\n",
        "\n",
        "*   Agrupa las ventas por trimestre (cada 3 meses) y calcula el promedio de ventas.\n",
        "\n",
        "*   Agrupa las ventas por mes y crea un gráfico de barras para mostrar visualmente los resultados.\n",
        "\n"
      ],
      "metadata": {
        "id": "Mzphf3D0zZO9"
      }
    },
    {
      "cell_type": "code",
      "source": [
        "\n",
        "\n",
        "\n",
        "# Crear datos de ventas simuladas\n",
        "ventas = pd.DataFrame({\n",
        "    'fecha': pd.date_range(start='2023-01-01', periods=90, freq='D'),\n",
        "    'ventas': np.random.randint(100, 500, size=90)\n",
        "})\n",
        "\n",
        "# Agrupar por trimestre\n",
        "ventas['trimestre'] = ventas['fecha'].dt.quarter\n",
        "ventas_trim = ventas.groupby('trimestre')['ventas'].mean()\n",
        "print(\"Ventas promedio por trimestre:\")\n",
        "print(ventas_trim)\n",
        "\n",
        "# Agrupar por mes y visualizar\n",
        "ventas['mes'] = ventas['fecha'].dt.month\n",
        "ventas_mes = ventas.groupby('mes')['ventas'].mean()\n",
        "\n",
        "# Crear gráfico de barras\n",
        "plt.figure(figsize=(8, 4))\n",
        "ventas_mes.plot(kind='bar', color='skyblue')\n",
        "plt.title('Ventas Promedio por Mes')\n",
        "plt.xlabel('Mes')\n",
        "plt.ylabel('Ventas Promedio')\n",
        "plt.tight_layout()\n",
        "plt.show()\n"
      ],
      "metadata": {
        "colab": {
          "base_uri": "https://localhost:8080/",
          "height": 476
        },
        "id": "GzMR8W2zv01A",
        "outputId": "fa28b9fe-5dc1-4ef1-a2b7-df501e520417"
      },
      "execution_count": 4,
      "outputs": [
        {
          "output_type": "stream",
          "name": "stdout",
          "text": [
            "Ventas promedio por trimestre:\n",
            "trimestre\n",
            "1    280.522222\n",
            "Name: ventas, dtype: float64\n"
          ]
        },
        {
          "output_type": "display_data",
          "data": {
            "text/plain": [
              "<Figure size 800x400 with 1 Axes>"
            ],
            "image/png": "[encoded data removed]"
          },
          "metadata": {}
        }
      ]
    }
  ]
}